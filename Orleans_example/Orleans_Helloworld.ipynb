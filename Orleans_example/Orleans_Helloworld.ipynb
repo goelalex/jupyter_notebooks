{
 "cells": [
  {
   "cell_type": "markdown",
   "metadata": {},
   "source": [
    "# Microsoft Orleans Hello World Example\n",
    "This notebook shows how to write a simple [Microsoft Orleans](https://github.com/dotnet/orleans) client &lt;=&gt; server application."
   ]
  },
  {
   "cell_type": "markdown",
   "metadata": {},
   "source": [
    "Since .NET Interactive Notebook is not a pure C# project, we cannot use the Build time code generation packages but instead install [`Microsoft.Orleans.OrleansCodeGenerator`]() that do code generation when both client & silo app starting:"
   ]
  },
  {
   "cell_type": "code",
   "execution_count": null,
   "metadata": {
    "dotnet_interactive": {
     "language": "csharp"
    },
    "vscode": {
     "languageId": "dotnet-interactive.csharp"
    }
   },
   "outputs": [
    {
     "data": {
      "text/html": [
       "<div><div></div><div></div><div><strong>Installed Packages</strong><ul><li><span>Microsoft.Extensions.DependencyInjection, 6.0.0</span></li><li><span>Microsoft.Extensions.Hosting, 6.0.1</span></li><li><span>Microsoft.Extensions.Logging, 6.0.0</span></li><li><span>Microsoft.Extensions.Logging.Abstractions, 6.0.0</span></li><li><span>Microsoft.Orleans.Core, 3.6.2</span></li><li><span>Microsoft.Orleans.OrleansCodeGenerator, 3.6.2</span></li><li><span>Microsoft.Orleans.OrleansRuntime, 3.6.2</span></li><li><span>Microsoft.Orleans.Server, 3.6.2</span></li><li><span>Serilog.Extensions.Logging, 3.1.0</span></li><li><span>Serilog.Sinks.Console, 4.0.1</span></li></ul></div></div>"
      ]
     },
     "metadata": {},
     "output_type": "display_data"
    }
   ],
   "source": [
    "#region install Nuget\n",
    "\n",
    "//Essential libs for running .NET 6 Generic Host\n",
    "#r \"nuget: Microsoft.Extensions.Hosting\"\n",
    "#r \"nuget: Microsoft.Extensions.DependencyInjection\"\n",
    "\n",
    "//Logging libraries\n",
    "#r \"nuget: Microsoft.Extensions.Logging.Abstractions,6.0.0\"\n",
    "#r \"nuget: Microsoft.Extensions.Logging,6.0.0\"\n",
    "#r \"nuget: Serilog.Extensions.Logging\"\n",
    "#r \"nuget: Serilog.Sinks.Console\"\n",
    "\n",
    "//Orleans essential dependencies\n",
    "#r \"nuget: Microsoft.Orleans.Core\"\n",
    "#r \"nuget: Microsoft.Orleans.OrleansRuntime\"\n",
    "//Orleans RPC method code generation library\n",
    "#r \"nuget: Microsoft.Orleans.OrleansCodeGenerator\"\n",
    "\n",
    "//Orleans seperate silo server runtime essentials\n",
    "#r \"nuget: Microsoft.Orleans.Server\"\n",
    "\n",
    "#endregion"
   ]
  },
  {
   "cell_type": "code",
   "execution_count": null,
   "metadata": {
    "dotnet_interactive": {
     "language": "csharp"
    },
    "vscode": {
     "languageId": "dotnet-interactive.csharp"
    }
   },
   "outputs": [],
   "source": [
    "using Orleans;\n",
    "using Orleans.Runtime;\n",
    "\n",
    "using Microsoft.Extensions.Hosting;\n",
    "using Orleans.Hosting;\n",
    "\n",
    "using Microsoft.Extensions.Logging;\n",
    "using Serilog;"
   ]
  },
  {
   "cell_type": "markdown",
   "metadata": {},
   "source": [
    "## Grain Development\n",
    "Grain is the essential actor part of Orleans. It can be called on Client-side and also being invoked on Server-side that used to communicate with other grain(s).\n",
    "### Grain Interface\n",
    "Grain's interface is the essential part of Orleans RPC method declaration, which use [TPL](https://docs.microsoft.com/en-us/dotnet/standard/parallel-programming/task-parallel-library-tpl)'s [`Task<TResult>`](https://docs.microsoft.com/en-us/dotnet/api/system.threading.tasks.task-1) to return the RPC result.\n"
   ]
  },
  {
   "cell_type": "code",
   "execution_count": null,
   "metadata": {
    "dotnet_interactive": {
     "language": "pwsh"
    },
    "vscode": {
     "languageId": "dotnet-interactive.pwsh"
    }
   },
   "outputs": [
    {
     "name": "stdout",
     "output_type": "stream",
     "text": [
      "using Orleans;\r\n",
      "\r\n",
      "namespace HelloWorld.Interfaces;\r\n",
      "public interface IHelloGrain : IGrainWithStringKey\r\n",
      "{\r\n",
      "    Task<string> SayHello(string greeting);\r\n",
      "}\r\n"
     ]
    }
   ],
   "source": [
    "#!pwsh\n",
    "cat ./class_libs/HelloWorld.Interfaces/IHelloGrain.cs"
   ]
  },
  {
   "cell_type": "markdown",
   "metadata": {},
   "source": [
    "### Grain Class\n",
    "The actual virtual actor class code that implements Business logic, currently it must inherit from [`Grain`](https://docs.microsoft.com/en-us/dotnet/api/orleans.grain) class.\n",
    "The **POCO(Plane Old CLR Objects)** way to develop grain is scheduled to [be available on Orleans v4](https://github.com/dotnet/orleans/issues/7351)."
   ]
  },
  {
   "cell_type": "code",
   "execution_count": null,
   "metadata": {
    "dotnet_interactive": {
     "language": "pwsh"
    },
    "vscode": {
     "languageId": "dotnet-interactive.pwsh"
    }
   },
   "outputs": [
    {
     "name": "stdout",
     "output_type": "stream",
     "text": [
      "using Orleans;\r\n",
      "using Orleans.Runtime;\r\n",
      "\r\n",
      "using HelloWorld.Interfaces;\r\n",
      "\r\n",
      "namespace HelloWorld.Grains;\r\n",
      "public class HelloGrain : Grain, IHelloGrain\r\n",
      "{\r\n",
      "    public Task<string> SayHello(string greeting) => Task.FromResult($\"Hello, {greeting}!\");\r\n",
      "}\r\n"
     ]
    }
   ],
   "source": [
    "#!pwsh\n",
    "cat ./class_libs/HelloWorld.Grains/HelloGrain.cs"
   ]
  },
  {
   "cell_type": "markdown",
   "metadata": {},
   "source": [
    "Because Notebook use C# Scripting which cannot declare namespace, and the Orleans's code generator has bug on global level type: https://github.com/dotnet/orleans/issues/6214, we could only use project code by build it into actual assembly files."
   ]
  },
  {
   "cell_type": "code",
   "execution_count": null,
   "metadata": {
    "dotnet_interactive": {
     "language": "pwsh"
    },
    "vscode": {
     "languageId": "dotnet-interactive.pwsh"
    }
   },
   "outputs": [
    {
     "name": "stdout",
     "output_type": "stream",
     "text": [
      "  Determining projects to restore...\r\n",
      "  Restored D:\\myWorkDir\\jupyter_notebooks\\Orleans_example\\class_libs\\HelloWorld.Grains\\HelloWorld.Grains.csproj (in 175 ms).\r\n",
      "  Restored D:\\myWorkDir\\jupyter_notebooks\\Orleans_example\\class_libs\\HelloWorld.Interfaces\\HelloWorld.Interfaces.csproj (in 175 ms).\r\n",
      "  Orleans.CodeGenerator - command-line = SourceToSource D:\\myWorkDir\\jupyter_notebooks\\Orleans_example\\class_libs\\HelloWorld.Interfaces\\obj\\Debug\\net6.0\\HelloWorld.Interfaces.orleans.g.args.txt\r\n",
      "  HelloWorld.Interfaces -> D:\\myWorkDir\\jupyter_notebooks\\Orleans_example\\class_libs\\HelloWorld.Interfaces\\bin\\Debug\\net6.0\\HelloWorld.Interfaces.dll\r\n",
      "  Orleans.CodeGenerator - command-line = SourceToSource D:\\myWorkDir\\jupyter_notebooks\\Orleans_example\\class_libs\\HelloWorld.Grains\\obj\\Debug\\net6.0\\HelloWorld.Grains.orleans.g.args.txt\r\n",
      "  HelloWorld.Grains -> D:\\myWorkDir\\jupyter_notebooks\\Orleans_example\\class_libs\\HelloWorld.Grains\\bin\\Debug\\net6.0\\HelloWorld.Grains.dll\r\n",
      "\r\n",
      "Build succeeded.\r\n",
      "    0 Warning(s)\r\n",
      "    0 Error(s)\r\n",
      "\r\n",
      "Time Elapsed 00:00:12.27\r\n"
     ]
    }
   ],
   "source": [
    "#!pwsh\n",
    "dotnet build ./class_libs/HelloWorld.Grains/HelloWorld.Grains.csproj --nologo --verbosity minimal"
   ]
  },
  {
   "cell_type": "markdown",
   "metadata": {},
   "source": [
    "Load built assembly files:"
   ]
  },
  {
   "cell_type": "code",
   "execution_count": null,
   "metadata": {
    "dotnet_interactive": {
     "language": "csharp"
    },
    "vscode": {
     "languageId": "dotnet-interactive.csharp"
    }
   },
   "outputs": [],
   "source": [
    "#r \"./class_libs/HelloWorld.Interfaces/bin/Debug/net6.0/HelloWorld.Interfaces.dll\"\n",
    "#r \"./class_libs/HelloWorld.Grains/bin/Debug/net6.0/HelloWorld.Grains.dll\""
   ]
  },
  {
   "cell_type": "markdown",
   "metadata": {},
   "source": [
    "## Silo Host Configuration\n",
    "\n",
    "Create [HostBuilder](https://docs.microsoft.com/en-us/dotnet/api/microsoft.extensions.hosting.hostbuilder) and configure it, we use local development host by calling [`UseLocalhostClustering()`](https://docs.microsoft.com/en-us/dotnet/api/orleans.hosting.corehostingextensions.uselocalhostclustering) extension method:\n"
   ]
  },
  {
   "cell_type": "code",
   "execution_count": null,
   "metadata": {
    "dotnet_interactive": {
     "language": "csharp"
    },
    "vscode": {
     "languageId": "dotnet-interactive.csharp"
    }
   },
   "outputs": [],
   "source": [
    "using HelloWorld.Grains;\n",
    "using HelloWorld.Interfaces;\n",
    "\n",
    "// Optional, the logger factory for seeing the Orleans RPC method stud code gen log.\n",
    "Log.Logger = new LoggerConfiguration().WriteTo.Console().CreateLogger();\n",
    "var codeGenLoggerFactory = LoggerFactory.Create(logBuilder =>logBuilder.AddSerilog());\n",
    "\n",
    "var hostBuilder = new HostBuilder().UseOrleans(siloBuilder =>{\n",
    "    // config to use development silo \n",
    "    siloBuilder.UseLocalhostClustering();\n",
    "\n",
    "    // Grain and its interface needs to be registered via adding the \"ApplicationPart\", and also assign the RPC method code generation strategy during host startup.\n",
    "    siloBuilder.ConfigureApplicationParts(parts =>{\n",
    "        parts.AddApplicationPart(typeof(HelloGrain).Assembly).WithCodeGeneration(loggerFactory: codeGenLoggerFactory);\n",
    "        parts.AddApplicationPart(typeof(IHelloGrain).Assembly).WithCodeGeneration(loggerFactory: codeGenLoggerFactory);\n",
    "    });\n",
    "});"
   ]
  },
  {
   "cell_type": "markdown",
   "metadata": {},
   "source": [
    "Build silo host, it will code gen Orleans RPC method:"
   ]
  },
  {
   "cell_type": "code",
   "execution_count": null,
   "metadata": {
    "dotnet_interactive": {
     "language": "csharp"
    },
    "vscode": {
     "languageId": "dotnet-interactive.csharp"
    }
   },
   "outputs": [
    {
     "name": "stdout",
     "output_type": "stream",
     "text": [
      "[17:34:21 INF] Generating code for assemblies: \r\n",
      "[17:34:21 INF] Runtime code generation for assemblies  HelloWorld.Grains, Version=1.0.0.0, Culture=neutral, PublicKeyToken=null took 459 milliseconds\r\n",
      "[17:34:21 INF] Generating code for assemblies: \r\n",
      "[17:34:22 INF] Runtime code generation for assemblies  HelloWorld.Interfaces, Version=1.0.0.0, Culture=neutral, PublicKeyToken=null took 158 milliseconds\r\n"
     ]
    }
   ],
   "source": [
    "var silo_host = hostBuilder.Build();"
   ]
  },
  {
   "cell_type": "markdown",
   "metadata": {},
   "source": [
    "Start silo host by calling [`StartAsync()`](https://docs.microsoft.com/en-us/dotnet/api/microsoft.extensions.hosting.ihost.startasync) extension method:"
   ]
  },
  {
   "cell_type": "code",
   "execution_count": null,
   "metadata": {
    "dotnet_interactive": {
     "language": "csharp"
    },
    "vscode": {
     "languageId": "dotnet-interactive.csharp"
    }
   },
   "outputs": [],
   "source": [
    "await silo_host.StartAsync();"
   ]
  },
  {
   "cell_type": "markdown",
   "metadata": {},
   "source": [
    "Now we can use .NET Generic Host's dependency injection feature to get a [IGrainFactory](https://docs.microsoft.com/en-us/dotnet/api/orleans.igrainfactory) instance, than use various [`GetGrain()`](https://docs.microsoft.com/en-us/dotnet/api/orleans.igrainfactory.getgrain) overload methods to get a specified Grain reference, then we can invoke RPC method in host-side:"
   ]
  },
  {
   "cell_type": "code",
   "execution_count": null,
   "metadata": {
    "dotnet_interactive": {
     "language": "csharp"
    },
    "vscode": {
     "languageId": "dotnet-interactive.csharp"
    }
   },
   "outputs": [
    {
     "data": {
      "text/plain": [
       "Hello, Microsoft Orleans!"
      ]
     },
     "metadata": {},
     "output_type": "display_data"
    }
   ],
   "source": [
    "using Microsoft.Extensions.DependencyInjection;\n",
    "var grainFactory = silo_host.Services.GetRequiredService<IGrainFactory>();\n",
    "\n",
    "var helloGrain = grainFactory.GetGrain<IHelloGrain>(\"demo\");\n",
    "display(await helloGrain.SayHello(\"Microsoft Orleans\"));"
   ]
  },
  {
   "cell_type": "markdown",
   "metadata": {},
   "source": [
    "## Client Configuration\n",
    "Create [ClientBuilder](https://docs.microsoft.com/en-us/dotnet/api/orleans.clientbuilder) and configure it, we only need to code gen Orleans Interface part:"
   ]
  },
  {
   "cell_type": "code",
   "execution_count": null,
   "metadata": {
    "dotnet_interactive": {
     "language": "csharp"
    },
    "vscode": {
     "languageId": "dotnet-interactive.csharp"
    }
   },
   "outputs": [
    {
     "name": "stdout",
     "output_type": "stream",
     "text": [
      "[17:34:56 INF] Generating code for assemblies: \r\n",
      "[17:34:56 INF] Runtime code generation for assemblies  HelloWorld.Interfaces, Version=1.0.0.0, Culture=neutral, PublicKeyToken=null took 134 milliseconds\r\n"
     ]
    }
   ],
   "source": [
    "var clientBuilder = new ClientBuilder().UseLocalhostClustering();\n",
    "clientBuilder.ConfigureApplicationParts(parts=>parts.AddApplicationPart(typeof(IHelloGrain).Assembly).WithCodeGeneration(loggerFactory: codeGenLoggerFactory));"
   ]
  },
  {
   "cell_type": "markdown",
   "metadata": {},
   "source": [
    "Get `IClusterClient` orleans client instance by calling [`Build()`](https://docs.microsoft.com/en-us/dotnet/api/orleans.clientbuilder.build) method of clientBuilder, and call [`Connect()`](https://docs.microsoft.com/en-us/dotnet/api/orleans.iclusterclient.connect) method to connect to silo host:"
   ]
  },
  {
   "cell_type": "code",
   "execution_count": null,
   "metadata": {
    "dotnet_interactive": {
     "language": "csharp"
    },
    "vscode": {
     "languageId": "dotnet-interactive.csharp"
    }
   },
   "outputs": [],
   "source": [
    "var orleans_client = clientBuilder.Build();\n",
    "await orleans_client.Connect();"
   ]
  },
  {
   "cell_type": "markdown",
   "metadata": {},
   "source": [
    "We can get Grain RPC method stub reference by calling use various [`GetGrain()`](https://docs.microsoft.com/en-us/dotnet/api/orleans.igrainfactory.getgrain) overload methods that  IClusterClient instance inherit from IGrainFactory, and invoke RPC method in client-side:"
   ]
  },
  {
   "cell_type": "code",
   "execution_count": null,
   "metadata": {
    "dotnet_interactive": {
     "language": "csharp"
    },
    "vscode": {
     "languageId": "dotnet-interactive.csharp"
    }
   },
   "outputs": [
    {
     "data": {
      "text/plain": [
       "Hello, invoke Microsoft Orleans RPC method from client!"
      ]
     },
     "metadata": {},
     "output_type": "display_data"
    }
   ],
   "source": [
    "var clientSideHelloGrain = orleans_client.GetGrain<IHelloGrain>(\"demo\");\n",
    "display(await clientSideHelloGrain.SayHello(\"invoke Microsoft Orleans RPC method from client\"));"
   ]
  },
  {
   "cell_type": "markdown",
   "metadata": {},
   "source": [
    "Remember to call [`Close()`](https://docs.microsoft.com/en-us/dotnet/api/orleans.iclusterclient.close) when client-side don't need to use anymore."
   ]
  },
  {
   "cell_type": "code",
   "execution_count": null,
   "metadata": {
    "dotnet_interactive": {
     "language": "csharp"
    },
    "vscode": {
     "languageId": "dotnet-interactive.csharp"
    }
   },
   "outputs": [],
   "source": [
    "await orleans_client.Close();"
   ]
  },
  {
   "cell_type": "markdown",
   "metadata": {},
   "source": [
    "Shutdown silo host by calling [`StopAsync()`](https://docs.microsoft.com/en-us/dotnet/api/microsoft.extensions.hosting.hostingabstractionshostextensions.stopasync) extension method:"
   ]
  },
  {
   "cell_type": "code",
   "execution_count": null,
   "metadata": {
    "dotnet_interactive": {
     "language": "csharp"
    },
    "vscode": {
     "languageId": "dotnet-interactive.csharp"
    }
   },
   "outputs": [],
   "source": [
    "await silo_host.StopAsync();"
   ]
  }
 ],
 "metadata": {
  "kernelspec": {
   "display_name": ".NET (C#)",
   "language": "C#",
   "name": ".net-csharp"
  },
  "language_info": {
   "name": "C#"
  }
 },
 "nbformat": 4,
 "nbformat_minor": 2
}
