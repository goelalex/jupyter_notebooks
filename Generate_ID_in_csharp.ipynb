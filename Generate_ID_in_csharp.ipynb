{
 "cells": [
  {
   "cell_type": "markdown",
   "metadata": {},
   "source": [
    "# Generate URL safe unique id in C#"
   ]
  },
  {
   "cell_type": "code",
   "execution_count": 2,
   "metadata": {},
   "outputs": [
    {
     "data": {
      "text/html": [
       "<div><div></div><div></div><div><strong>Installed Packages</strong><ul><li><span>CSharpVitamins.ShortGuid, 2.0.0</span></li><li><span>Nanoid, 2.1.0</span></li><li><span>NUlid, 1.7.1</span></li></ul></div></div>"
      ]
     },
     "metadata": {},
     "output_type": "display_data"
    }
   ],
   "source": [
    "#r \"nuget: CSharpVitamins.ShortGuid\"\n",
    "#r \"nuget: NUlid\"\n",
    "#r \"nuget: Nanoid\""
   ]
  },
  {
   "cell_type": "markdown",
   "metadata": {},
   "source": [
    "# 1. use Guid.NewGuid() \n",
    "Use built-in [`Guid.NewGuid()` static method](https://learn.microsoft.com/en-us/dotnet/api/system.guid.newguid) to generate unique id object then convert it to string by invoking [`GetHashCode()` get hash code of the Guid object](https://learn.microsoft.com/en-us/dotnet/api/system.guid.gethashcode) then [`ToString()` method with **\"X\"** Hexadecimal format](https://learn.microsoft.com/en-us/dotnet/standard/base-types/standard-numeric-format-strings#standard-format-specifiers). \n",
    "\n",
    "Caveat: \n",
    "- May Collision because hash code is not guarantee unique.\n",
    "- Only use Hexadecimal characters [0-9A-F]."
   ]
  },
  {
   "cell_type": "code",
   "execution_count": 4,
   "metadata": {},
   "outputs": [
    {
     "name": "stdout",
     "output_type": "stream",
     "text": [
      "Origin GUID : cacaa103-2eae-4059-a1e9-a70b5d13ecfe\n",
      "Hash Hexadecimal format: \"7FD87551\"\n"
     ]
    }
   ],
   "source": [
    "var gen_guid = Guid.NewGuid();\n",
    "Console.WriteLine($\"Origin GUID : {gen_guid}\");\n",
    "var gen_guid_string = gen_guid.GetHashCode().ToString(\"X\");\n",
    "Console.WriteLine($\"Hash Hexadecimal format: \\\"{gen_guid_string}\\\"\");"
   ]
  },
  {
   "cell_type": "markdown",
   "metadata": {},
   "source": [
    "# 2. use CSharpVitamins.ShortGuid nuget package\n",
    "An open source nuget package to generate shorter unique id then GUID in C#:\n",
    "\n",
    "https://github.com/csharpvitamins/csharpvitamins.shortguid/\n",
    "\n",
    "It can convert to and from Guid and string representation (*\"00000000-0000-0000-0000-000000000000\"*), see usage example on [author's blog](https://www.singular.co.nz/2007/12/shortguid-a-shorter-and-url-friendly-guid-in-c-sharp/)."
   ]
  },
  {
   "cell_type": "code",
   "execution_count": 5,
   "metadata": {},
   "outputs": [
    {
     "name": "stdout",
     "output_type": "stream",
     "text": [
      "Short GUID: \"A6HKyq4uWUCh6acLXRPs_g\"\n"
     ]
    }
   ],
   "source": [
    "var sguid = new CSharpVitamins.ShortGuid(gen_guid);\n",
    "Console.WriteLine($\"Short GUID: \\\"{sguid}\\\"\");"
   ]
  },
  {
   "cell_type": "markdown",
   "metadata": {},
   "source": [
    "# 3. use \"ULID\" (Universally Unique Lexicographically Sortable Identifier) format\n",
    "[ULID spec](https://github.com/ulid/spec) is born from web development community. The significant features are sortable and shorter ID string than GUID/UUID (it use Crockford's base32 format, The Whole uppercase alphabet excludes the letters I, L, O, and U to avoid confusion), usually the generating speed is higher than `Guid.NewGuid()` method.\n",
    "\n",
    "There are various implementations of ULID in C#:\n",
    "- [NUlid](https://github.com/RobThree/NUlid)\n",
    "- [Ulid](https://github.com/Cysharp/Ulid)\n",
    "\n",
    "If you don't want the time-increment part, you can use only the left 16 characters of the ULID string.\n"
   ]
  },
  {
   "cell_type": "code",
   "execution_count": 6,
   "metadata": {},
   "outputs": [
    {
     "name": "stdout",
     "output_type": "stream",
     "text": [
      "ULID:   \"01GJ2DXP6GSDVQ8BZ4Z2MN55M1\"\n",
      "ULID random part: \"SDVQ8BZ4Z2MN55M1\"\n"
     ]
    }
   ],
   "source": [
    "var ulid = NUlid.Ulid.NewUlid();\n",
    "Console.WriteLine($\"ULID:   \\\"{ulid}\\\"\");\n",
    "Console.WriteLine($\"ULID random part: \\\"{ulid.ToString().Substring(10)}\\\"\");"
   ]
  },
  {
   "cell_type": "markdown",
   "metadata": {},
   "source": [
    "## 4. use \"Nano ID\" format\n",
    "[Nano ID](https://github.com/ai/nanoid) format is a secure, URL-friendly, unique string ID generator for JavaScript, default use larger alphabet (**A-Za-z0-9_-**) than GUID. So ID size was reduced from 36 to 21 symbols.\n",
    "\n",
    "There are two implementations of Nano ID in C#:\n",
    "- [nanoid-net](https://github.com/codeyu/nanoid-net)\n",
    "- [idgen](https://github.com/abock/idgen)\n",
    "\n",
    "Both of above Nano ID libraries can use custom alphabet, and controllable length size of ID string, but it may occur collision because of shorter size. \n"
   ]
  },
  {
   "cell_type": "code",
   "execution_count": 29,
   "metadata": {},
   "outputs": [
    {
     "name": "stdout",
     "output_type": "stream",
     "text": [
      "Nano ID: \"FhZEQ5SacZN6SfykZhTuU\"\n",
      "Custom NanoID: \"GXZ2YBRLQ5\"\n"
     ]
    }
   ],
   "source": [
    "var nano_id = Nanoid.Nanoid.Generate();\n",
    "Console.WriteLine($\"Nano ID: \\\"{nano_id}\\\"\");\n",
    "var custom_nano_id = Nanoid.Nanoid.Generate(\"0123456789ABCDEFGHIJKLMNOPQRSTUVWXYZ\", 10);\n",
    "Console.WriteLine($\"Custom NanoID: \\\"{custom_nano_id}\\\"\");"
   ]
  }
 ],
 "metadata": {
  "kernelspec": {
   "display_name": "Python 3",
   "language": "python",
   "name": "python3"
  },
  "language_info": {
   "file_extension": ".cs",
   "mimetype": "text/x-csharp",
   "name": "python",
   "pygments_lexer": "csharp",
   "version": "3.9.13 (main, May 24 2022, 21:28:31) \n[Clang 13.1.6 (clang-1316.0.21.2)]"
  },
  "orig_nbformat": 4,
  "vscode": {
   "interpreter": {
    "hash": "aee8b7b246df8f9039afb4144a1f6fd8d2ca17a180786b69acc140d282b71a49"
   }
  }
 },
 "nbformat": 4,
 "nbformat_minor": 2
}
