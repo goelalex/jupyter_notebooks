{
 "cells": [
  {
   "cell_type": "markdown",
   "metadata": {},
   "source": [
    "# QuikGraph Demo\n",
    "\n",
    "Test various [QuikGraph](https://github.com/KeRNeLith/QuikGraph) features."
   ]
  },
  {
   "cell_type": "code",
   "execution_count": null,
   "metadata": {
    "dotnet_interactive": {
     "language": "csharp"
    },
    "vscode": {
     "languageId": "dotnet-interactive.csharp"
    }
   },
   "outputs": [
    {
     "data": {
      "text/html": [
       "<div><div></div><div></div><div><strong>Installed Packages</strong><ul><li><span>QuikGraph, 2.5.0</span></li><li><span>QuikGraph.Graphviz, 2.5.0</span></li></ul></div></div>"
      ]
     },
     "metadata": {},
     "output_type": "display_data"
    }
   ],
   "source": [
    "#r \"nuget: QuikGraph\"\n",
    "#r \"nuget: QuikGraph.Graphviz\""
   ]
  },
  {
   "cell_type": "code",
   "execution_count": null,
   "metadata": {
    "dotnet_interactive": {
     "language": "csharp"
    },
    "vscode": {
     "languageId": "dotnet-interactive.csharp"
    }
   },
   "outputs": [],
   "source": [
    "using QuikGraph;\n",
    "\n",
    "//define a graph node type\n",
    "class MyNode {\n",
    "    public int Id { get; set; }\n",
    "    public string Name { get; set; }\n",
    "}\n",
    "\n",
    "var node1 = new MyNode { Id = 1, Name = \"Node 1\" };\n",
    "var node2 = new MyNode { Id = 2, Name = \"Node 2\" };\n",
    "var node3 = new MyNode { Id = 3, Name = \"Node 3\" };\n",
    "var node4 = new MyNode { Id = 4, Name = \"Node 4\" };\n",
    "var node5 = new MyNode { Id = 5, Name = \"Node 5\" };\n",
    "\n",
    "\n",
    "var graph = new[] { \n",
    "    new Edge<MyNode>(node1, node2),\n",
    "    new Edge<MyNode>(node2, node3),\n",
    "    new Edge<MyNode>(node3, node4),\n",
    "    new Edge<MyNode>(node2, node4),\n",
    "    new Edge<MyNode>(node4, node5)\n",
    "}.ToAdjacencyGraph<MyNode, Edge<MyNode>>();"
   ]
  },
  {
   "cell_type": "markdown",
   "metadata": {},
   "source": [
    "Generate [Graphviz](https://graphviz.org/) format string"
   ]
  },
  {
   "cell_type": "code",
   "execution_count": null,
   "metadata": {
    "dotnet_interactive": {
     "language": "csharp"
    },
    "vscode": {
     "languageId": "dotnet-interactive.csharp"
    }
   },
   "outputs": [
    {
     "data": {
      "text/plain": [
       "digraph G {\r\n",
       "0 [label=\"Node 1\"];\r\n",
       "1 [label=\"Node 2\"];\r\n",
       "2 [label=\"Node 3\"];\r\n",
       "3 [label=\"Node 4\"];\r\n",
       "4 [label=\"Node 5\"];\r\n",
       "0 -> 1;\r\n",
       "1 -> 2;\r\n",
       "1 -> 3;\r\n",
       "2 -> 3;\r\n",
       "3 -> 4;\r\n",
       "}"
      ]
     },
     "metadata": {},
     "output_type": "display_data"
    }
   ],
   "source": [
    "using QuikGraph.Graphviz;\n",
    "\n",
    "var graphviz_graph = graph.ToGraphviz(alg => {\n",
    "    alg.FormatVertex += (sender, args) => {\n",
    "        args.VertexFormat.Label = args.Vertex.Name;\n",
    "    };\n",
    "});\n",
    "graphviz_graph"
   ]
  },
  {
   "cell_type": "markdown",
   "metadata": {},
   "source": [
    "## Get shortest path\n",
    "\n",
    "First you need define edge weight, we assume all edge cost is \"*1.0*\".\n",
    "\n",
    "Then create path finder function via given the starting Node."
   ]
  },
  {
   "cell_type": "code",
   "execution_count": null,
   "metadata": {
    "dotnet_interactive": {
     "language": "csharp"
    },
    "vscode": {
     "languageId": "dotnet-interactive.csharp"
    }
   },
   "outputs": [],
   "source": [
    "using QuikGraph.Algorithms;\n",
    "\n",
    "Func<Edge<MyNode>, double> edge_weight = e => 1.0;\n",
    "\n",
    "var node1PathFinder = graph.ShortestPathsDijkstra(edge_weight, node1);"
   ]
  },
  {
   "cell_type": "code",
   "execution_count": null,
   "metadata": {
    "dotnet_interactive": {
     "language": "csharp"
    },
    "vscode": {
     "languageId": "dotnet-interactive.csharp"
    }
   },
   "outputs": [
    {
     "data": {
      "text/html": [
       "<table><thead><tr><th><i>index</i></th><th>Id</th><th>Name</th></tr></thead><tbody><tr><td>0</td><td><div class=\"dni-plaintext\">2</div></td><td>Node 2</td></tr><tr><td>1</td><td><div class=\"dni-plaintext\">4</div></td><td>Node 4</td></tr><tr><td>2</td><td><div class=\"dni-plaintext\">5</div></td><td>Node 5</td></tr></tbody></table>"
      ]
     },
     "metadata": {},
     "output_type": "display_data"
    }
   ],
   "source": [
    "IEnumerable<Edge<MyNode>> possible_route = new List<Edge<MyNode>>();\n",
    "\n",
    "var route_nodes = new List<MyNode>();\n",
    "\n",
    "if(node1PathFinder(node5, out possible_route)) {\n",
    "    route_nodes = possible_route.Select( p => p.Target).ToList();\n",
    "}\n",
    "\n",
    "display(route_nodes)"
   ]
  }
 ],
 "metadata": {
  "kernelspec": {
   "display_name": ".NET (C#)",
   "language": "C#",
   "name": ".net-csharp"
  },
  "language_info": {
   "name": "C#"
  }
 },
 "nbformat": 4,
 "nbformat_minor": 2
}
