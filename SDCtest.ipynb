{
 "cells": [
  {
   "attachments": {},
   "cell_type": "markdown",
   "metadata": {},
   "source": [
    "# SDC Polyglot Workbook \n",
    "\n",
    "This work book is an example of what can be done with SDC in Polyglot notebook. "
   ]
  },
  {
   "cell_type": "code",
   "execution_count": 2,
   "metadata": {
    "vscode": {
     "languageId": "xml"
    }
   },
   "outputs": [
    {
     "ename": "SyntaxError",
     "evalue": "invalid syntax (1672368030.py, line 1)",
     "output_type": "error",
     "traceback": [
      "\u001b[0;36m  Input \u001b[0;32mIn [2]\u001b[0;36m\u001b[0m\n\u001b[0;31m    <Section name=\"S_4257\" order=\"19\" ID=\"4257.100004300\" minCard=\"0\">\u001b[0m\n\u001b[0m    ^\u001b[0m\n\u001b[0;31mSyntaxError\u001b[0m\u001b[0;31m:\u001b[0m invalid syntax\n"
     ]
    }
   ],
   "source": [
    " <Section name=\"S_4257\" order=\"19\" ID=\"4257.100004300\" minCard=\"0\">\n",
    " </Section>"
   ]
  },
  {
   "attachments": {},
   "cell_type": "markdown",
   "metadata": {},
   "source": [
    "## Sections\n",
    " \n",
    "The code snippet above shows a section with a name, order, ID and minCard attribute"
   ]
  },
  {
   "cell_type": "code",
   "execution_count": null,
   "metadata": {
    "vscode": {
     "languageId": "xml"
    }
   },
   "outputs": [],
   "source": [
    "minCard=\"0\""
   ]
  },
  {
   "attachments": {},
   "cell_type": "markdown",
   "metadata": {},
   "source": [
    "## minCard\n",
    "\n",
    "@minCard is the minimum number of repetitions allowed for a section or question. The default value is 1, indicating that the user must answer any question(s) that has this attribute set. If @minCard is set to 0, then the item and all descendent questions are optional to answer.\n"
   ]
  },
  {
   "cell_type": "code",
   "execution_count": null,
   "metadata": {
    "vscode": {
     "languageId": "xml"
    }
   },
   "outputs": [],
   "source": [
    "<Question name=\"Q_2118\" order=\"21\" ID=\"2118.100004300\" minCard=\"0\" readOnly=\"true\">\n",
    "      <Property name=\"p_altTxt_2118_1\" order=\"22\" propName=\"altText\" val=\"Tumor Site\" />\n",
    "      <ListField name=\"lf_2118_2\" order=\"23\">\n",
    "       <List name=\"lst_2118_3\" order=\"24\">\n",
    "        <ListItem name=\"LI_2119\" order=\"25\" ID=\"2119.100004300\" title=\"Adrenal gland\" selected=\"true\">\n",
    "         <Property name=\"p_rptTxt_2119_1\" order=\"26\" propName=\"reportText\" val=\"{no text}\" />\n",
    "        </ListItem>\n",
    "       </List>\n",
    "      </ListField>\n",
    "     </Question>"
   ]
  },
  {
   "attachments": {},
   "cell_type": "markdown",
   "metadata": {},
   "source": [
    "## Read Only Question\n",
    "\n",
    "The question above is a special kind of read only question that is displayed to the user, but they cannot fill it in. It is informational in nature only. "
   ]
  },
  {
   "cell_type": "code",
   "execution_count": null,
   "metadata": {
    "vscode": {
     "languageId": "xml"
    }
   },
   "outputs": [],
   "source": [
    " <ListItem name=\"LI_45594\" order=\"192\" ID=\"45594.100004300\" title=\"Other adjacent organs and structures (specify)\">\n",
    "         <Property name=\"p_rptTxt_45594_1\" order=\"193\" propName=\"reportText\" val=\"{no text}\" />\n",
    "         <ListItemResponseField name=\"lirf_45594_2\" order=\"194\" responseRequired=\"true\">\n",
    "          <Response name=\"rsp_45594_3\" order=\"195\">\n",
    "           <string name=\"str_45594_4\" order=\"196\" />\n",
    "          </Response>\n",
    "         </ListItemResponseField>\n",
    "        </ListItem>"
   ]
  },
  {
   "attachments": {},
   "cell_type": "markdown",
   "metadata": {},
   "source": [
    "## ListItem With Response\n",
    "\n",
    "There are many questions in SDC forms which might have a response section "
   ]
  },
  {
   "cell_type": "code",
   "execution_count": 13,
   "metadata": {
    "vscode": {
     "languageId": "javascript"
    }
   },
   "outputs": [
    {
     "ename": "SyntaxError",
     "evalue": "invalid syntax (3425731528.py, line 1)",
     "output_type": "error",
     "traceback": [
      "\u001b[0;36m  Input \u001b[0;32mIn [13]\u001b[0;36m\u001b[0m\n\u001b[0;31m    function toCelsius(fahrenheit) {\u001b[0m\n\u001b[0m             ^\u001b[0m\n\u001b[0;31mSyntaxError\u001b[0m\u001b[0;31m:\u001b[0m invalid syntax\n"
     ]
    }
   ],
   "source": [
    "function toCelsius(fahrenheit) {\n",
    "    return (5/9) * (fahrenheit-32);\n",
    "  }\n",
    "  document.getElementById(\"demo\").innerHTML = toCelsius(77); "
   ]
  },
  {
   "cell_type": "code",
   "execution_count": 9,
   "metadata": {
    "vscode": {
     "languageId": "html"
    }
   },
   "outputs": [
    {
     "ename": "SyntaxError",
     "evalue": "invalid syntax (427403763.py, line 1)",
     "output_type": "error",
     "traceback": [
      "\u001b[0;36m  Input \u001b[0;32mIn [9]\u001b[0;36m\u001b[0m\n\u001b[0;31m    <html>\u001b[0m\n\u001b[0m    ^\u001b[0m\n\u001b[0;31mSyntaxError\u001b[0m\u001b[0;31m:\u001b[0m invalid syntax\n"
     ]
    }
   ],
   "source": [
    "<!DOCTYPE html>\n",
    "<html>\n",
    "<head>\n",
    "<title>Page Title</title>\n",
    "</head>\n",
    "<body>\n",
    "\n",
    "<h1>This is a Heading</h1>\n",
    "<p>This is a paragraph. Trying the W3C HTML tutorial</p>\n",
    "\n",
    "</body>\n",
    "</html> "
   ]
  }
 ],
 "metadata": {
  "kernelspec": {
   "display_name": "Python 3",
   "language": "python",
   "name": "python3"
  },
  "language_info": {
   "codemirror_mode": {
    "name": "ipython",
    "version": 3
   },
   "file_extension": ".py",
   "mimetype": "text/x-python",
   "name": "python",
   "nbconvert_exporter": "python",
   "pygments_lexer": "ipython3",
   "version": "3.9.13"
  },
  "orig_nbformat": 4,
  "vscode": {
   "interpreter": {
    "hash": "aee8b7b246df8f9039afb4144a1f6fd8d2ca17a180786b69acc140d282b71a49"
   }
  }
 },
 "nbformat": 4,
 "nbformat_minor": 2
}
