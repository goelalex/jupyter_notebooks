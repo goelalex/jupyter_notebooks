{
 "cells": [
  {
   "cell_type": "code",
   "execution_count": null,
   "id": "2298c975",
   "metadata": {
    "dotnet_interactive": {
     "language": "csharp"
    },
    "vscode": {
     "languageId": "dotnet-interactive.csharp"
    }
   },
   "outputs": [
    {
     "data": {
      "text/html": [
       "<div><div></div><div></div><div><strong>Installed Packages</strong><ul><li><span>Microsoft.Extensions.Logging, 6.0.0</span></li><li><span>Microsoft.Extensions.Logging.Abstractions, 6.0.0</span></li><li><span>Serilog.Extensions.Logging, 3.1.0</span></li><li><span>Serilog.Sinks.Console, 4.0.1</span></li></ul></div></div>"
      ]
     },
     "metadata": {},
     "output_type": "display_data"
    }
   ],
   "source": [
    "#r \"nuget: Microsoft.Extensions.Logging.Abstractions,6.0.0\"\n",
    "#r \"nuget: Microsoft.Extensions.Logging,6.0.0\"\n",
    "#r \"nuget: Serilog.Extensions.Logging\"\n",
    "#r \"nuget: Serilog.Sinks.Console\""
   ]
  },
  {
   "cell_type": "code",
   "execution_count": null,
   "id": "d6ccfd92",
   "metadata": {
    "dotnet_interactive": {
     "language": "csharp"
    },
    "vscode": {
     "languageId": "dotnet-interactive.csharp"
    }
   },
   "outputs": [],
   "source": [
    "using Microsoft.Extensions.Logging;\n",
    "using Serilog;"
   ]
  },
  {
   "cell_type": "code",
   "execution_count": null,
   "id": "6b508bda",
   "metadata": {
    "dotnet_interactive": {
     "language": "csharp"
    },
    "vscode": {
     "languageId": "dotnet-interactive.csharp"
    }
   },
   "outputs": [],
   "source": [
    "Log.Logger = new LoggerConfiguration().WriteTo.Console().CreateLogger();"
   ]
  },
  {
   "cell_type": "code",
   "execution_count": null,
   "id": "82c49e93",
   "metadata": {
    "dotnet_interactive": {
     "language": "csharp"
    },
    "vscode": {
     "languageId": "dotnet-interactive.csharp"
    }
   },
   "outputs": [],
   "source": [
    "var loggerFactory = LoggerFactory.Create(builder => {\n",
    "    builder.AddSerilog();\n",
    "});"
   ]
  },
  {
   "cell_type": "code",
   "execution_count": null,
   "id": "28efbd6f",
   "metadata": {
    "dotnet_interactive": {
     "language": "csharp"
    },
    "vscode": {
     "languageId": "dotnet-interactive.csharp"
    }
   },
   "outputs": [],
   "source": [
    "var logger = loggerFactory.CreateLogger(\"test\");"
   ]
  },
  {
   "cell_type": "code",
   "execution_count": null,
   "id": "c82c3d39",
   "metadata": {
    "dotnet_interactive": {
     "language": "csharp"
    },
    "vscode": {
     "languageId": "dotnet-interactive.csharp"
    }
   },
   "outputs": [
    {
     "name": "stdout",
     "output_type": "stream",
     "text": [
      "[16:59:55 INF] Log via Serilog.\r\n"
     ]
    }
   ],
   "source": [
    "logger.LogInformation(\"Log via Serilog.\");"
   ]
  }
 ],
 "metadata": {
  "kernelspec": {
   "display_name": ".NET (C#)",
   "language": "C#",
   "name": ".net-csharp"
  },
  "language_info": {
   "file_extension": ".cs",
   "mimetype": "text/x-csharp",
   "name": "C#",
   "pygments_lexer": "csharp",
   "version": "10.0"
  }
 },
 "nbformat": 4,
 "nbformat_minor": 5
}
