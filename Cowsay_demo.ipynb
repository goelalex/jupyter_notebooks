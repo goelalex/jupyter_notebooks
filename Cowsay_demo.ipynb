{
 "cells": [
  {
   "cell_type": "markdown",
   "metadata": {},
   "source": [
    "# Cowsay Demo\n",
    "Demo using [cowsay (.NET)](https://github.com/rawsonm88/Cowsay) library"
   ]
  },
  {
   "cell_type": "markdown",
   "metadata": {},
   "source": [
    "## Cowsay with DI"
   ]
  },
  {
   "cell_type": "code",
   "execution_count": null,
   "metadata": {
    "dotnet_interactive": {
     "language": "csharp"
    },
    "vscode": {
     "languageId": "dotnet-interactive.csharp"
    }
   },
   "outputs": [
    {
     "data": {
      "text/html": [
       "<div><div></div><div></div><div><strong>Installed Packages</strong><ul><li><span>Cowsay.Extensions.DependencyInjection, 1.1.10</span></li><li><span>Microsoft.Extensions.DependencyInjection.Abstractions, 6.0.0</span></li><li><span>Microsoft.Extensions.Hosting, 6.0.1</span></li><li><span>Microsoft.Extensions.Hosting.Abstractions, 6.0.0</span></li></ul></div></div>"
      ]
     },
     "metadata": {},
     "output_type": "display_data"
    }
   ],
   "source": [
    "#r \"nuget:Microsoft.Extensions.Hosting.Abstractions\"\n",
    "#r \"nuget:Microsoft.Extensions.DependencyInjection.Abstractions, 6.0.0\"\n",
    "#r \"nuget:Microsoft.Extensions.Hosting\"\n",
    "#r \"nuget:Cowsay.Extensions.DependencyInjection\""
   ]
  },
  {
   "cell_type": "markdown",
   "metadata": {},
   "source": [
    "Create a custom class **MyClass** that use the injected `ICattleFarmer` instance to say a message."
   ]
  },
  {
   "cell_type": "code",
   "execution_count": null,
   "metadata": {
    "dotnet_interactive": {
     "language": "csharp"
    },
    "vscode": {
     "languageId": "dotnet-interactive.csharp"
    }
   },
   "outputs": [],
   "source": [
    "using Cowsay.Abstractions;\n",
    "public class MyClass\n",
    "{\n",
    "    private readonly ICattleFarmer _cattleFarmer;\n",
    "    public MyClass(ICattleFarmer cattleFarmer)\n",
    "    {\n",
    "        _cattleFarmer = cattleFarmer;\n",
    "    }\n",
    "\n",
    "    public async Task Say()\n",
    "    {\n",
    "        var demoCow = await _cattleFarmer.RearCowAsync(\"default\");\n",
    "         Console.WriteLine(demoCow.Say(\"I was called via dependency injection.\"));\n",
    "    }\n",
    "}"
   ]
  },
  {
   "cell_type": "markdown",
   "metadata": {},
   "source": [
    "Register the Cowsay library using the `AddCowSay()` extension method:"
   ]
  },
  {
   "cell_type": "code",
   "execution_count": null,
   "metadata": {
    "dotnet_interactive": {
     "language": "csharp"
    },
    "vscode": {
     "languageId": "dotnet-interactive.csharp"
    }
   },
   "outputs": [],
   "source": [
    "using Microsoft.Extensions.Hosting;\n",
    "using Microsoft.Extensions.DependencyInjection;\n",
    "\n",
    "var host = Host.CreateDefaultBuilder()\n",
    "    .ConfigureServices((context, services) =>\n",
    "    {\n",
    "        services.AddCowsay();\n",
    "    })\n",
    "    .Build();"
   ]
  },
  {
   "cell_type": "markdown",
   "metadata": {},
   "source": [
    "Create the **MyClass** instance using [`ActivatorUtilities.CreateInstance()`](https://docs.microsoft.com/en-us/dotnet/api/microsoft.extensions.dependencyinjection.activatorutilities.createinstance) utility API, and call the `Say()` method:"
   ]
  },
  {
   "cell_type": "code",
   "execution_count": null,
   "metadata": {
    "dotnet_interactive": {
     "language": "csharp"
    },
    "vscode": {
     "languageId": "dotnet-interactive.csharp"
    }
   },
   "outputs": [
    {
     "name": "stdout",
     "output_type": "stream",
     "text": [
      " ________________________________________ \r\n",
      "< I was called via dependency injection. >\r\n",
      " ---------------------------------------- \r\n",
      "        \\   ^__^\r\n",
      "         \\  (oo)\\_______\r\n",
      "            (__)\\       )\\/\\\r\n",
      "                ||----w |\r\n",
      "                ||     ||\r\n"
     ]
    }
   ],
   "source": [
    "var myClassObj = ActivatorUtilities.CreateInstance<MyClass>(host.Services);\n",
    "await myClassObj.Say();"
   ]
  },
  {
   "cell_type": "markdown",
   "metadata": {},
   "source": [
    "## Cowsay without DI"
   ]
  },
  {
   "cell_type": "code",
   "execution_count": null,
   "metadata": {
    "dotnet_interactive": {
     "language": "csharp"
    },
    "vscode": {
     "languageId": "dotnet-interactive.csharp"
    }
   },
   "outputs": [
    {
     "data": {
      "text/html": [
       "<div><div></div><div></div><div><strong>Installed Packages</strong><ul><li><span>cowsay, 1.1.10</span></li></ul></div></div>"
      ]
     },
     "metadata": {},
     "output_type": "display_data"
    }
   ],
   "source": [
    "#r \"nuget:Cowsay\""
   ]
  },
  {
   "cell_type": "markdown",
   "metadata": {},
   "source": [
    "You can specify different cowsay avatar when create cow instance:"
   ]
  },
  {
   "cell_type": "code",
   "execution_count": null,
   "metadata": {
    "dotnet_interactive": {
     "language": "csharp"
    },
    "vscode": {
     "languageId": "dotnet-interactive.csharp"
    }
   },
   "outputs": [
    {
     "data": {
      "text/plain": [
       " _____________ \r\n",
       "< Hello World >\r\n",
       " ------------- \r\n",
       "        \\\r\n",
       "         \\\r\n",
       "          )__(\r\n",
       "         '|oo|'________/\r\n",
       "          |__|         |\r\n",
       "             ||\"\"\"\"\"\"\"||\r\n",
       "             ||       ||"
      ]
     },
     "metadata": {},
     "output_type": "display_data"
    }
   ],
   "source": [
    "var demoCow = await Cowsay.DefaultCattleFarmer.RearCowWithDefaults(\"goat2\");\n",
    "display( demoCow.Say(\"Hello World\") );"
   ]
  },
  {
   "cell_type": "markdown",
   "metadata": {},
   "source": [
    "Some avatar can change eyes:"
   ]
  },
  {
   "cell_type": "code",
   "execution_count": null,
   "metadata": {
    "dotnet_interactive": {
     "language": "csharp"
    },
    "vscode": {
     "languageId": "dotnet-interactive.csharp"
    }
   },
   "outputs": [
    {
     "data": {
      "text/plain": [
       " _________________ \r\n",
       "<  Hello World!!  >\r\n",
       " ----------------- \r\n",
       "        \\\r\n",
       "         \\\r\n",
       "          )__(\r\n",
       "         '|**|'________/\r\n",
       "          |__|         |\r\n",
       "             ||\"\"\"\"\"\"\"||\r\n",
       "             ||       ||"
      ]
     },
     "metadata": {},
     "output_type": "display_data"
    }
   ],
   "source": [
    "//decorate eyes\n",
    "display( demoCow.Say(\" Hello World!! \", cowEyes: \"**\") );"
   ]
  },
  {
   "cell_type": "markdown",
   "metadata": {},
   "source": [
    "Some avatar can add tongue:"
   ]
  },
  {
   "cell_type": "code",
   "execution_count": null,
   "metadata": {
    "dotnet_interactive": {
     "language": "csharp"
    },
    "vscode": {
     "languageId": "dotnet-interactive.csharp"
    }
   },
   "outputs": [
    {
     "data": {
      "text/plain": [
       " __________________ \r\n",
       "<  Hello World :P  >\r\n",
       " ------------------ \r\n",
       "        \\\r\n",
       "         \\\r\n",
       "          )__(\r\n",
       "         '|oo|'________/\r\n",
       "          |__|         |\r\n",
       "           U ||\"\"\"\"\"\"\"||\r\n",
       "             ||       ||"
      ]
     },
     "metadata": {},
     "output_type": "display_data"
    }
   ],
   "source": [
    "//decorate tongue\n",
    "display( demoCow.Say(\" Hello World :P \", cowTongue: \"U\") );"
   ]
  }
 ],
 "metadata": {
  "kernelspec": {
   "display_name": ".NET (C#)",
   "language": "C#",
   "name": ".net-csharp"
  },
  "language_info": {
   "name": "C#"
  }
 },
 "nbformat": 4,
 "nbformat_minor": 2
}
